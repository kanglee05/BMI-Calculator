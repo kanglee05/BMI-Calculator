{
 "cells": [
  {
   "cell_type": "markdown",
   "id": "84b20857",
   "metadata": {},
   "source": [
    "# BMI Calculator"
   ]
  },
  {
   "cell_type": "code",
   "execution_count": 1,
   "id": "2d945466",
   "metadata": {},
   "outputs": [],
   "source": [
    "# BMI = (weight in lbs x 703) / (height in inches x height in inches), from Mercer Health BMI Calculator"
   ]
  },
  {
   "cell_type": "code",
   "execution_count": null,
   "id": "42fef624",
   "metadata": {},
   "outputs": [],
   "source": [
    "name = input(\"Enter your name: \")\n",
    "\n",
    "weight = int(input(\"Please enter your weight in pounds: \"))\n",
    "\n",
    "height = int(input(\"Please enter your height in inches: \"))\n",
    "\n",
    "BMI = (weight * 703) / (height * height)\n",
    "\n",
    "print(BMI)"
   ]
  },
  {
   "cell_type": "code",
   "execution_count": null,
   "id": "159d7d6f",
   "metadata": {},
   "outputs": [],
   "source": [
    "if BMI > 0:\n",
    "    if BMI < 18.5:\n",
    "        print(name + \", you are underweight.\")\n",
    "    elif BMI <= 24.9:\n",
    "        print(name + \", you are normal weight.\")\n",
    "    elif BMI <= 29.9:\n",
    "        print(name + \", you are overweight.\")\n",
    "    elif BMI <= 34.9:\n",
    "        print(name + \", you are obese.\")\n",
    "    elif BMI <= 39.9:\n",
    "        print(name + \", you are severely obese.\")\n",
    "    else:\n",
    "        print(name + \", you are morbidly obese.\")\n",
    "else:\n",
    "    print(\"Invalid inputs.\")\n",
    "    "
   ]
  },
  {
   "cell_type": "code",
   "execution_count": null,
   "id": "faeb2e8a",
   "metadata": {},
   "outputs": [],
   "source": []
  }
 ],
 "metadata": {
  "kernelspec": {
   "display_name": "Python 3 (ipykernel)",
   "language": "python",
   "name": "python3"
  },
  "language_info": {
   "codemirror_mode": {
    "name": "ipython",
    "version": 3
   },
   "file_extension": ".py",
   "mimetype": "text/x-python",
   "name": "python",
   "nbconvert_exporter": "python",
   "pygments_lexer": "ipython3",
   "version": "3.11.5"
  }
 },
 "nbformat": 4,
 "nbformat_minor": 5
}
